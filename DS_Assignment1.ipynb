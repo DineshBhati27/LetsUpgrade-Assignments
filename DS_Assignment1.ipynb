{
 "cells": [
  {
   "cell_type": "raw",
   "metadata": {},
   "source": [
    "Question 1:\n",
    "Given the following jumbled word, OBANWRI guess the correct English word.\n",
    "\n",
    "Answer) B.RAINBOW"
   ]
  },
  {
   "cell_type": "code",
   "execution_count": 1,
   "metadata": {},
   "outputs": [
    {
     "name": "stdout",
     "output_type": "stream",
     "text": [
      "Given the following jumbled word, OBANWRI \n",
      "\n",
      "Guess the correct English word from the options given bellow! \n",
      "A. RANIBOW \n",
      "B. RAINBOW \n",
      "C. BOWRANI \n",
      "D. ROBWANI\n",
      "Enter any one of the options:(in caps only)\n",
      "RAINBOW\n",
      "RAINBOW\n"
     ]
    }
   ],
   "source": [
    "print(\"Given the following jumbled word, OBANWRI \\n\\nGuess the correct English word from the options given bellow! \\nA. RANIBOW \\nB. RAINBOW \\nC. BOWRANI \\nD. ROBWANI\")\n",
    "word = input(\"Enter any one of the options:(in caps only)\\n\")\n",
    "answer = \"RAINBOW\"\n",
    "if word == answer:\n",
    "    print(answer)\n",
    "else:\n",
    "    print(\"Wrong answer\")"
   ]
  },
  {
   "cell_type": "raw",
   "metadata": {},
   "source": [
    "Question 2:\n",
    "Write a program which prints “LETS UPGRADE”. (Please note that you have to\n",
    "print in ALL CAPS as given)"
   ]
  },
  {
   "cell_type": "code",
   "execution_count": 2,
   "metadata": {},
   "outputs": [
    {
     "name": "stdout",
     "output_type": "stream",
     "text": [
      "LETS UPGRADE\n"
     ]
    }
   ],
   "source": [
    "print(\"LETS UPGRADE\")"
   ]
  },
  {
   "cell_type": "raw",
   "metadata": {},
   "source": [
    "Question 3:\n",
    "\n",
    "Write a program that takes cost price and selling price as input and displays whether the transaction is a\n",
    "Profit or a Loss or Neither."
   ]
  },
  {
   "cell_type": "code",
   "execution_count": 3,
   "metadata": {},
   "outputs": [
    {
     "name": "stdout",
     "output_type": "stream",
     "text": [
      "Enter the cost price:25\n",
      "Enter the selling price:35\n",
      "profit\n"
     ]
    }
   ],
   "source": [
    "x=input(\"Enter the cost price:\")\n",
    "y=input('Enter the selling price:')\n",
    "\n",
    "if x<y:\n",
    "    print(\"profit\")\n",
    "elif x>y:\n",
    "    print(\"loss\")\n",
    "else:\n",
    "    print(\"neither\")"
   ]
  },
  {
   "cell_type": "raw",
   "metadata": {},
   "source": [
    "Question 4:\n",
    "Write a program that takes an amount in Indian Rupees as input. You need to find its equivalent in Euro and display it.\n",
    "Assume 1 Euro equals Rs. 80."
   ]
  },
  {
   "cell_type": "code",
   "execution_count": 6,
   "metadata": {},
   "outputs": [
    {
     "name": "stdout",
     "output_type": "stream",
     "text": [
      "Enter Amt in indian rupees1\n",
      "Amount in Euro 80\n"
     ]
    }
   ],
   "source": [
    "ind_rs = int(input('Enter Amt in indian rupees'))\n",
    "ans = ind_rs * 80\n",
    "print(\"Amount in Euro\",ans)"
   ]
  },
  {
   "cell_type": "code",
   "execution_count": null,
   "metadata": {},
   "outputs": [],
   "source": []
  }
 ],
 "metadata": {
  "kernelspec": {
   "display_name": "Python 3",
   "language": "python",
   "name": "python3"
  },
  "language_info": {
   "codemirror_mode": {
    "name": "ipython",
    "version": 3
   },
   "file_extension": ".py",
   "mimetype": "text/x-python",
   "name": "python",
   "nbconvert_exporter": "python",
   "pygments_lexer": "ipython3",
   "version": "3.7.4"
  }
 },
 "nbformat": 4,
 "nbformat_minor": 4
}
